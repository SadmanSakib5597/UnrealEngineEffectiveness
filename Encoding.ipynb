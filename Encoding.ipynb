{
  "cells": [
    {
      "cell_type": "code",
      "execution_count": 126,
      "metadata": {
        "colab": {
          "base_uri": "https://localhost:8080/"
        },
        "id": "qOUZukInF67E",
        "outputId": "726edb46-6a03-44b4-f36b-f084e6a7be39"
      },
      "outputs": [
        {
          "output_type": "stream",
          "name": "stdout",
          "text": [
            "(20, 17)\n"
          ]
        },
        {
          "output_type": "execute_result",
          "data": {
            "text/plain": [
              "['Unnamed: 0',\n",
              " '1. Unreal Engine works smoothly on your machine ',\n",
              " '2. Game developed using unreal engine runs smoothly on different platforms',\n",
              " '3. One can easily learn Unreal Engine as a beginner',\n",
              " '4. You are satisfied using Unreal Engine as a game engine',\n",
              " '5. The lighting quality of Unreal Engine is not satisfactory to you',\n",
              " '6. 2D work flow is not up to the level',\n",
              " '7. 3D work flow is not up to the level',\n",
              " '8. Unreal Engine is well documented',\n",
              " '9. The Physics Simulation in Unreal Engine is realistic ',\n",
              " '10. A developer gets enough community support for Unreal Engine',\n",
              " '11. The Ray Tracing feature is great in Unreal Engine',\n",
              " '12. The open-sourceness of Unreal Engine is great',\n",
              " '13. Unreal Engine is economically good as a game engine ',\n",
              " '14. The UI of Unreal Engine is user friendly',\n",
              " '15. Unreal Engine is more versatile than other game engines',\n",
              " 'Gender']"
            ]
          },
          "metadata": {},
          "execution_count": 126
        }
      ],
      "source": [
        "import pandas as pd\n",
        "dataset = pd.read_csv(\"/content/sample_data/Clean_Sample.csv\")\n",
        "print(dataset.shape)\n",
        "list(dataset.columns.values)"
      ]
    },
    {
      "cell_type": "code",
      "execution_count": 124,
      "metadata": {
        "colab": {
          "base_uri": "https://localhost:8080/"
        },
        "id": "JYlqfdVMF67J",
        "outputId": "15e01e02-cf7d-49c1-c3d1-dc6012c4ffab"
      },
      "outputs": [
        {
          "output_type": "execute_result",
          "data": {
            "text/plain": [
              "0    18\n",
              "1     2\n",
              "Name: Gender, dtype: int64"
            ]
          },
          "metadata": {},
          "execution_count": 124
        }
      ],
      "source": [
        "dataset['Gender'].value_counts()"
      ]
    },
    {
      "cell_type": "code",
      "execution_count": 125,
      "metadata": {
        "colab": {
          "base_uri": "https://localhost:8080/"
        },
        "id": "FPHzspP6F67K",
        "outputId": "cdd77191-d025-4a28-a52c-534d104935c5"
      },
      "outputs": [
        {
          "output_type": "execute_result",
          "data": {
            "text/plain": [
              "0    NaN\n",
              "1    NaN\n",
              "2    NaN\n",
              "3    NaN\n",
              "4    NaN\n",
              "5    NaN\n",
              "6    NaN\n",
              "7    NaN\n",
              "8    NaN\n",
              "9    NaN\n",
              "10   NaN\n",
              "11   NaN\n",
              "12   NaN\n",
              "13   NaN\n",
              "14   NaN\n",
              "15   NaN\n",
              "16   NaN\n",
              "17   NaN\n",
              "18   NaN\n",
              "19   NaN\n",
              "Name: Gender, dtype: float64"
            ]
          },
          "metadata": {},
          "execution_count": 125
        }
      ],
      "source": [
        "dataset['Gender'] = dataset['Gender'].map({'Male': 0, 'Female':1})\n",
        "dataset['Gender']"
      ]
    },
    {
      "cell_type": "code",
      "execution_count": 70,
      "metadata": {
        "colab": {
          "base_uri": "https://localhost:8080/"
        },
        "id": "7_977fQdF67K",
        "outputId": "8432dc4b-b4fa-40f0-e1e1-a73bf61ac4e2"
      },
      "outputs": [
        {
          "output_type": "execute_result",
          "data": {
            "text/plain": [
              "Strongly Agree       10\n",
              "Agree                 9\n",
              "Neutral               7\n",
              "Disagree              5\n",
              "Strongly Disagree     4\n",
              "Name: 1. Unreal Engine works smoothly on your machine , dtype: int64"
            ]
          },
          "metadata": {},
          "execution_count": 70
        }
      ],
      "source": [
        "dataset['1. Unreal Engine works smoothly on your machine '].value_counts()"
      ]
    },
    {
      "cell_type": "code",
      "execution_count": 71,
      "metadata": {
        "id": "vx_wPpiqF67M",
        "colab": {
          "base_uri": "https://localhost:8080/"
        },
        "outputId": "f0c9afd2-e67c-4e78-8aed-12529ab49bb1"
      },
      "outputs": [
        {
          "output_type": "execute_result",
          "data": {
            "text/plain": [
              "0     4\n",
              "1     3\n",
              "2     1\n",
              "3     3\n",
              "4     1\n",
              "5     2\n",
              "6     3\n",
              "7     2\n",
              "8     2\n",
              "9     3\n",
              "10    4\n",
              "11    1\n",
              "12    4\n",
              "13    2\n",
              "14    5\n",
              "15    5\n",
              "16    3\n",
              "17    4\n",
              "18    4\n",
              "19    5\n",
              "20    5\n",
              "21    1\n",
              "22    5\n",
              "23    5\n",
              "24    2\n",
              "25    4\n",
              "26    4\n",
              "27    3\n",
              "28    5\n",
              "29    4\n",
              "30    5\n",
              "31    3\n",
              "32    4\n",
              "33    5\n",
              "34    5\n",
              "Name: 1. Unreal Engine works smoothly on your machine , dtype: int64"
            ]
          },
          "metadata": {},
          "execution_count": 71
        }
      ],
      "source": [
        "dataset['1. Unreal Engine works smoothly on your machine '] = dataset['1. Unreal Engine works smoothly on your machine '].map({'Strongly Disagree': 1, 'Disagree': 2, \n",
        "                                                                   'Neutral':3, 'Agree':4, \n",
        "                                                                   'Strongly Agree':5})\n",
        "dataset['1. Unreal Engine works smoothly on your machine ']"
      ]
    },
    {
      "cell_type": "code",
      "execution_count": 72,
      "metadata": {
        "colab": {
          "base_uri": "https://localhost:8080/"
        },
        "id": "1syNxJU0PTP5",
        "outputId": "7a247867-0f62-468e-be5a-a449b5ac507f"
      },
      "outputs": [
        {
          "output_type": "execute_result",
          "data": {
            "text/plain": [
              "Agree                13\n",
              "Strongly Agree        9\n",
              "Disagree              6\n",
              "Neutral               6\n",
              "Strongly Disagree     1\n",
              "Name: 2. Game developed using unreal engine runs smoothly on different platforms, dtype: int64"
            ]
          },
          "metadata": {},
          "execution_count": 72
        }
      ],
      "source": [
        "dataset['2. Game developed using unreal engine runs smoothly on different platforms'].value_counts()"
      ]
    },
    {
      "cell_type": "code",
      "execution_count": 73,
      "metadata": {
        "id": "UOPKIgtPPTP5",
        "colab": {
          "base_uri": "https://localhost:8080/"
        },
        "outputId": "1ae0da54-b9eb-42f5-851f-c96af6bc1b62"
      },
      "outputs": [
        {
          "output_type": "execute_result",
          "data": {
            "text/plain": [
              "0     5\n",
              "1     3\n",
              "2     2\n",
              "3     2\n",
              "4     4\n",
              "5     2\n",
              "6     3\n",
              "7     3\n",
              "8     4\n",
              "9     4\n",
              "10    2\n",
              "11    3\n",
              "12    4\n",
              "13    3\n",
              "14    5\n",
              "15    4\n",
              "16    4\n",
              "17    5\n",
              "18    2\n",
              "19    4\n",
              "20    5\n",
              "21    1\n",
              "22    4\n",
              "23    5\n",
              "24    2\n",
              "25    4\n",
              "26    4\n",
              "27    3\n",
              "28    5\n",
              "29    4\n",
              "30    5\n",
              "31    4\n",
              "32    5\n",
              "33    5\n",
              "34    4\n",
              "Name: 2. Game developed using unreal engine runs smoothly on different platforms, dtype: int64"
            ]
          },
          "metadata": {},
          "execution_count": 73
        }
      ],
      "source": [
        "dataset['2. Game developed using unreal engine runs smoothly on different platforms'] = dataset['2. Game developed using unreal engine runs smoothly on different platforms'].map({'Strongly Disagree': 1, 'Disagree': 2, \n",
        "                                                                   'Neutral':3, 'Agree':4, \n",
        "                                                                   'Strongly Agree':5})\n",
        "dataset['2. Game developed using unreal engine runs smoothly on different platforms']"
      ]
    },
    {
      "cell_type": "code",
      "execution_count": 74,
      "metadata": {
        "id": "Eoub6RlzPVGA",
        "colab": {
          "base_uri": "https://localhost:8080/"
        },
        "outputId": "a4d0a94f-7ea9-4806-efd2-a124b28c2adf"
      },
      "outputs": [
        {
          "output_type": "execute_result",
          "data": {
            "text/plain": [
              "Neutral              10\n",
              "Agree                10\n",
              "Strongly Agree        7\n",
              "Disagree              6\n",
              "Strongly Disagree     2\n",
              "Name: 3. One can easily learn Unreal Engine as a beginner, dtype: int64"
            ]
          },
          "metadata": {},
          "execution_count": 74
        }
      ],
      "source": [
        "dataset['3. One can easily learn Unreal Engine as a beginner'].value_counts()"
      ]
    },
    {
      "cell_type": "code",
      "execution_count": 75,
      "metadata": {
        "id": "iLS2vp6iPVGB",
        "colab": {
          "base_uri": "https://localhost:8080/"
        },
        "outputId": "cf4b3f38-88b4-441d-e501-c00947c6f05a"
      },
      "outputs": [
        {
          "output_type": "execute_result",
          "data": {
            "text/plain": [
              "0     3\n",
              "1     2\n",
              "2     2\n",
              "3     2\n",
              "4     1\n",
              "5     3\n",
              "6     2\n",
              "7     3\n",
              "8     1\n",
              "9     4\n",
              "10    3\n",
              "11    3\n",
              "12    4\n",
              "13    3\n",
              "14    4\n",
              "15    4\n",
              "16    4\n",
              "17    2\n",
              "18    4\n",
              "19    4\n",
              "20    4\n",
              "21    4\n",
              "22    5\n",
              "23    5\n",
              "24    5\n",
              "25    5\n",
              "26    4\n",
              "27    3\n",
              "28    5\n",
              "29    2\n",
              "30    5\n",
              "31    3\n",
              "32    3\n",
              "33    5\n",
              "34    3\n",
              "Name: 3. One can easily learn Unreal Engine as a beginner, dtype: int64"
            ]
          },
          "metadata": {},
          "execution_count": 75
        }
      ],
      "source": [
        "dataset['3. One can easily learn Unreal Engine as a beginner'] = dataset['3. One can easily learn Unreal Engine as a beginner'].map({'Strongly Disagree': 1, 'Disagree': 2, \n",
        "                                                                   'Neutral':3, 'Agree':4, \n",
        "                                                                   'Strongly Agree':5})\n",
        "dataset['3. One can easily learn Unreal Engine as a beginner']"
      ]
    },
    {
      "cell_type": "code",
      "execution_count": 76,
      "metadata": {
        "colab": {
          "base_uri": "https://localhost:8080/"
        },
        "id": "B_i9L-FaP1Py",
        "outputId": "bbd8b180-31f8-4700-eed6-1a9bb046a892"
      },
      "outputs": [
        {
          "output_type": "execute_result",
          "data": {
            "text/plain": [
              "Agree                16\n",
              "Neutral               9\n",
              "Strongly Agree        8\n",
              "Disagree              1\n",
              "Strongly Disagree     1\n",
              "Name: 4. You are satisfied using Unreal Engine as a game engine, dtype: int64"
            ]
          },
          "metadata": {},
          "execution_count": 76
        }
      ],
      "source": [
        "dataset['4. You are satisfied using Unreal Engine as a game engine'].value_counts()"
      ]
    },
    {
      "cell_type": "code",
      "execution_count": 77,
      "metadata": {
        "colab": {
          "base_uri": "https://localhost:8080/"
        },
        "id": "PGbU0HNEP1P5",
        "outputId": "18b62da5-5903-4417-feb3-e859bec66ba4"
      },
      "outputs": [
        {
          "output_type": "execute_result",
          "data": {
            "text/plain": [
              "0     3\n",
              "1     3\n",
              "2     3\n",
              "3     3\n",
              "4     3\n",
              "5     5\n",
              "6     4\n",
              "7     4\n",
              "8     4\n",
              "9     3\n",
              "10    4\n",
              "11    4\n",
              "12    4\n",
              "13    4\n",
              "14    4\n",
              "15    4\n",
              "16    4\n",
              "17    4\n",
              "18    3\n",
              "19    4\n",
              "20    1\n",
              "21    4\n",
              "22    5\n",
              "23    3\n",
              "24    4\n",
              "25    5\n",
              "26    5\n",
              "27    3\n",
              "28    4\n",
              "29    4\n",
              "30    5\n",
              "31    5\n",
              "32    5\n",
              "33    5\n",
              "34    2\n",
              "Name: 4. You are satisfied using Unreal Engine as a game engine, dtype: int64"
            ]
          },
          "metadata": {},
          "execution_count": 77
        }
      ],
      "source": [
        "dataset['4. You are satisfied using Unreal Engine as a game engine'] = dataset['4. You are satisfied using Unreal Engine as a game engine'].map({'Strongly Disagree': 1, 'Disagree': 2, \n",
        "                                                                   'Neutral':3, 'Agree':4, \n",
        "                                                                   'Strongly Agree':5})\n",
        "dataset['4. You are satisfied using Unreal Engine as a game engine']"
      ]
    },
    {
      "cell_type": "code",
      "execution_count": 78,
      "metadata": {
        "colab": {
          "base_uri": "https://localhost:8080/"
        },
        "id": "W-U0Hi4gP1zd",
        "outputId": "858d4eed-3d38-4265-b256-c323a73ff361"
      },
      "outputs": [
        {
          "output_type": "execute_result",
          "data": {
            "text/plain": [
              "Neutral              9\n",
              "Agree                9\n",
              "Disagree             7\n",
              "Strongly Agree       6\n",
              "Strongly Disagree    4\n",
              "Name: 5. The lighting quality of Unreal Engine is not satisfactory to you, dtype: int64"
            ]
          },
          "metadata": {},
          "execution_count": 78
        }
      ],
      "source": [
        "dataset['5. The lighting quality of Unreal Engine is not satisfactory to you'].value_counts()"
      ]
    },
    {
      "cell_type": "code",
      "execution_count": 79,
      "metadata": {
        "colab": {
          "base_uri": "https://localhost:8080/"
        },
        "id": "l438jVDPP1ze",
        "outputId": "ca949bfa-d68d-4bb9-cfe9-408254592fb5"
      },
      "outputs": [
        {
          "output_type": "execute_result",
          "data": {
            "text/plain": [
              "0     5\n",
              "1     3\n",
              "2     4\n",
              "3     4\n",
              "4     4\n",
              "5     3\n",
              "6     3\n",
              "7     2\n",
              "8     2\n",
              "9     3\n",
              "10    2\n",
              "11    4\n",
              "12    2\n",
              "13    2\n",
              "14    3\n",
              "15    3\n",
              "16    3\n",
              "17    5\n",
              "18    1\n",
              "19    1\n",
              "20    2\n",
              "21    4\n",
              "22    2\n",
              "23    5\n",
              "24    4\n",
              "25    4\n",
              "26    5\n",
              "27    3\n",
              "28    3\n",
              "29    5\n",
              "30    1\n",
              "31    4\n",
              "32    5\n",
              "33    1\n",
              "34    4\n",
              "Name: 5. The lighting quality of Unreal Engine is not satisfactory to you, dtype: int64"
            ]
          },
          "metadata": {},
          "execution_count": 79
        }
      ],
      "source": [
        "dataset['5. The lighting quality of Unreal Engine is not satisfactory to you'] = dataset['5. The lighting quality of Unreal Engine is not satisfactory to you'].map({'Strongly Disagree': 1, 'Disagree': 2, \n",
        "                                                                   'Neutral':3, 'Agree':4, \n",
        "                                                                   'Strongly Agree':5})\n",
        "dataset['5. The lighting quality of Unreal Engine is not satisfactory to you']"
      ]
    },
    {
      "cell_type": "code",
      "execution_count": 80,
      "metadata": {
        "colab": {
          "base_uri": "https://localhost:8080/"
        },
        "id": "0WlwMH3NP2JV",
        "outputId": "ea0546df-e992-40d3-b500-99ba605abc99"
      },
      "outputs": [
        {
          "output_type": "execute_result",
          "data": {
            "text/plain": [
              "Neutral              12\n",
              "Disagree             10\n",
              "Strongly Disagree     5\n",
              "Agree                 5\n",
              "Strongly Agree        3\n",
              "Name: 6. 2D work flow is not up to the level, dtype: int64"
            ]
          },
          "metadata": {},
          "execution_count": 80
        }
      ],
      "source": [
        "dataset['6. 2D work flow is not up to the level'].value_counts()"
      ]
    },
    {
      "cell_type": "code",
      "execution_count": 81,
      "metadata": {
        "colab": {
          "base_uri": "https://localhost:8080/"
        },
        "id": "D2PBew5LP2JW",
        "outputId": "547892a3-7129-4bcd-d14f-75458e5d002f"
      },
      "outputs": [
        {
          "output_type": "execute_result",
          "data": {
            "text/plain": [
              "0     4\n",
              "1     4\n",
              "2     3\n",
              "3     4\n",
              "4     3\n",
              "5     3\n",
              "6     3\n",
              "7     2\n",
              "8     4\n",
              "9     3\n",
              "10    5\n",
              "11    3\n",
              "12    5\n",
              "13    4\n",
              "14    3\n",
              "15    5\n",
              "16    3\n",
              "17    2\n",
              "18    2\n",
              "19    2\n",
              "20    2\n",
              "21    2\n",
              "22    2\n",
              "23    3\n",
              "24    1\n",
              "25    2\n",
              "26    1\n",
              "27    3\n",
              "28    2\n",
              "29    1\n",
              "30    1\n",
              "31    3\n",
              "32    3\n",
              "33    1\n",
              "34    2\n",
              "Name: 6. 2D work flow is not up to the level, dtype: int64"
            ]
          },
          "metadata": {},
          "execution_count": 81
        }
      ],
      "source": [
        "dataset['6. 2D work flow is not up to the level'] = dataset['6. 2D work flow is not up to the level'].map({'Strongly Disagree': 1, 'Disagree': 2, \n",
        "                                                                   'Neutral':3, 'Agree':4, \n",
        "                                                                   'Strongly Agree':5})\n",
        "dataset['6. 2D work flow is not up to the level']"
      ]
    },
    {
      "cell_type": "code",
      "execution_count": 82,
      "metadata": {
        "colab": {
          "base_uri": "https://localhost:8080/"
        },
        "id": "dEKX-mZTP2nw",
        "outputId": "1cc440a3-ca79-46a9-9a4e-3bed003febb2"
      },
      "outputs": [
        {
          "output_type": "execute_result",
          "data": {
            "text/plain": [
              "Disagree             11\n",
              "Strongly Disagree     9\n",
              "Neutral               8\n",
              "Strongly Agree        5\n",
              "Agree                 2\n",
              "Name: 7. 3D work flow is not up to the level, dtype: int64"
            ]
          },
          "metadata": {},
          "execution_count": 82
        }
      ],
      "source": [
        "dataset['7. 3D work flow is not up to the level'].value_counts()"
      ]
    },
    {
      "cell_type": "code",
      "execution_count": 83,
      "metadata": {
        "colab": {
          "base_uri": "https://localhost:8080/"
        },
        "id": "HN7dEpF6P2nx",
        "outputId": "915a1859-d92d-4eb3-ee0b-10ddfef48ef1"
      },
      "outputs": [
        {
          "output_type": "execute_result",
          "data": {
            "text/plain": [
              "0     1\n",
              "1     3\n",
              "2     3\n",
              "3     2\n",
              "4     3\n",
              "5     3\n",
              "6     3\n",
              "7     2\n",
              "8     2\n",
              "9     3\n",
              "10    1\n",
              "11    4\n",
              "12    1\n",
              "13    3\n",
              "14    5\n",
              "15    2\n",
              "16    2\n",
              "17    2\n",
              "18    2\n",
              "19    1\n",
              "20    1\n",
              "21    2\n",
              "22    2\n",
              "23    5\n",
              "24    1\n",
              "25    4\n",
              "26    1\n",
              "27    3\n",
              "28    1\n",
              "29    2\n",
              "30    5\n",
              "31    5\n",
              "32    2\n",
              "33    5\n",
              "34    1\n",
              "Name: 7. 3D work flow is not up to the level, dtype: int64"
            ]
          },
          "metadata": {},
          "execution_count": 83
        }
      ],
      "source": [
        "dataset['7. 3D work flow is not up to the level'] = dataset['7. 3D work flow is not up to the level'].map({'Strongly Disagree': 1, 'Disagree': 2, \n",
        "                                                                   'Neutral':3, 'Agree':4, \n",
        "                                                                   'Strongly Agree':5})\n",
        "dataset['7. 3D work flow is not up to the level']"
      ]
    },
    {
      "cell_type": "code",
      "execution_count": null,
      "metadata": {
        "colab": {
          "base_uri": "https://localhost:8080/"
        },
        "id": "6ujTMvbmP3FD",
        "outputId": "f247d4a1-ebab-4c0c-cd81-37337fe3b83e"
      },
      "outputs": [
        {
          "output_type": "execute_result",
          "data": {
            "text/plain": [
              "Agree                16\n",
              "Neutral               8\n",
              "Strongly Agree        8\n",
              "Disagree              1\n",
              "Strongly Disagree     1\n",
              "Name: 8. Unreal Engine is well documented, dtype: int64"
            ]
          },
          "metadata": {},
          "execution_count": 46
        }
      ],
      "source": [
        "dataset['8. Unreal Engine is well documented'].value_counts()"
      ]
    },
    {
      "cell_type": "code",
      "execution_count": 84,
      "metadata": {
        "colab": {
          "base_uri": "https://localhost:8080/"
        },
        "id": "lnpBkshYP3FD",
        "outputId": "0a326f9a-94ff-41a6-860c-c06ae82b4313"
      },
      "outputs": [
        {
          "output_type": "execute_result",
          "data": {
            "text/plain": [
              "0     3.0\n",
              "1     2.0\n",
              "2     4.0\n",
              "3     4.0\n",
              "4     4.0\n",
              "5     4.0\n",
              "6     4.0\n",
              "7     5.0\n",
              "8     4.0\n",
              "9     3.0\n",
              "10    4.0\n",
              "11    4.0\n",
              "12    4.0\n",
              "13    3.0\n",
              "14    4.0\n",
              "15    5.0\n",
              "16    4.0\n",
              "17    3.0\n",
              "18    4.0\n",
              "19    4.0\n",
              "20    4.0\n",
              "21    5.0\n",
              "22    5.0\n",
              "23    5.0\n",
              "24    4.0\n",
              "25    5.0\n",
              "26    4.0\n",
              "27    3.0\n",
              "28    1.0\n",
              "29    3.0\n",
              "30    5.0\n",
              "31    3.0\n",
              "32    NaN\n",
              "33    5.0\n",
              "34    3.0\n",
              "Name: 8. Unreal Engine is well documented, dtype: float64"
            ]
          },
          "metadata": {},
          "execution_count": 84
        }
      ],
      "source": [
        "dataset['8. Unreal Engine is well documented'] = dataset['8. Unreal Engine is well documented'].map({'Strongly Disagree': 1, 'Disagree': 2, \n",
        "                                                                   'Neutral':3, 'Agree':4, \n",
        "                                                                   'Strongly Agree':5})\n",
        "dataset['8. Unreal Engine is well documented']"
      ]
    },
    {
      "cell_type": "code",
      "execution_count": 85,
      "metadata": {
        "colab": {
          "base_uri": "https://localhost:8080/"
        },
        "id": "uWsUoR8kP3ni",
        "outputId": "e21df8ae-b04e-4f33-ed83-084622a1db95"
      },
      "outputs": [
        {
          "output_type": "execute_result",
          "data": {
            "text/plain": [
              "Agree             16\n",
              "Neutral            9\n",
              "Strongly Agree     7\n",
              "Disagree           3\n",
              "Name: 9. The Physics Simulation in Unreal Engine is realistic , dtype: int64"
            ]
          },
          "metadata": {},
          "execution_count": 85
        }
      ],
      "source": [
        "dataset['9. The Physics Simulation in Unreal Engine is realistic '].value_counts()"
      ]
    },
    {
      "cell_type": "code",
      "execution_count": 86,
      "metadata": {
        "colab": {
          "base_uri": "https://localhost:8080/"
        },
        "id": "ItuYRp9KP3ni",
        "outputId": "9c5dc61d-4a03-422c-86f2-dbdc1c2332e0"
      },
      "outputs": [
        {
          "output_type": "execute_result",
          "data": {
            "text/plain": [
              "0     4\n",
              "1     4\n",
              "2     3\n",
              "3     4\n",
              "4     3\n",
              "5     4\n",
              "6     4\n",
              "7     5\n",
              "8     4\n",
              "9     3\n",
              "10    4\n",
              "11    3\n",
              "12    3\n",
              "13    3\n",
              "14    2\n",
              "15    4\n",
              "16    4\n",
              "17    4\n",
              "18    5\n",
              "19    5\n",
              "20    4\n",
              "21    4\n",
              "22    2\n",
              "23    5\n",
              "24    4\n",
              "25    3\n",
              "26    4\n",
              "27    3\n",
              "28    2\n",
              "29    4\n",
              "30    5\n",
              "31    3\n",
              "32    5\n",
              "33    5\n",
              "34    4\n",
              "Name: 9. The Physics Simulation in Unreal Engine is realistic , dtype: int64"
            ]
          },
          "metadata": {},
          "execution_count": 86
        }
      ],
      "source": [
        "dataset['9. The Physics Simulation in Unreal Engine is realistic '] = dataset['9. The Physics Simulation in Unreal Engine is realistic '].map({'Strongly Disagree': 1, 'Disagree': 2, \n",
        "                                                                   'Neutral':3, 'Agree':4, \n",
        "                                                                   'Strongly Agree':5})\n",
        "dataset['9. The Physics Simulation in Unreal Engine is realistic ']"
      ]
    },
    {
      "cell_type": "code",
      "execution_count": 87,
      "metadata": {
        "colab": {
          "base_uri": "https://localhost:8080/"
        },
        "id": "7hUu532hP37Y",
        "outputId": "73dc9212-e33e-4829-d18c-5f8f7f32b908"
      },
      "outputs": [
        {
          "output_type": "execute_result",
          "data": {
            "text/plain": [
              "Strongly Agree       12\n",
              "Agree                12\n",
              "Neutral               7\n",
              "Disagree              3\n",
              "Strongly Disagree     1\n",
              "Name: 10. A developer gets enough community support for Unreal Engine, dtype: int64"
            ]
          },
          "metadata": {},
          "execution_count": 87
        }
      ],
      "source": [
        "dataset['10. A developer gets enough community support for Unreal Engine'].value_counts()"
      ]
    },
    {
      "cell_type": "code",
      "execution_count": 88,
      "metadata": {
        "colab": {
          "base_uri": "https://localhost:8080/"
        },
        "id": "hUbRP5I2P37Y",
        "outputId": "beef1466-2157-423e-9c4d-636d3a05a641"
      },
      "outputs": [
        {
          "output_type": "execute_result",
          "data": {
            "text/plain": [
              "0     3\n",
              "1     4\n",
              "2     5\n",
              "3     4\n",
              "4     4\n",
              "5     3\n",
              "6     3\n",
              "7     2\n",
              "8     2\n",
              "9     4\n",
              "10    4\n",
              "11    4\n",
              "12    4\n",
              "13    2\n",
              "14    3\n",
              "15    4\n",
              "16    4\n",
              "17    5\n",
              "18    4\n",
              "19    5\n",
              "20    3\n",
              "21    5\n",
              "22    5\n",
              "23    5\n",
              "24    5\n",
              "25    5\n",
              "26    5\n",
              "27    3\n",
              "28    3\n",
              "29    4\n",
              "30    5\n",
              "31    1\n",
              "32    4\n",
              "33    5\n",
              "34    5\n",
              "Name: 10. A developer gets enough community support for Unreal Engine, dtype: int64"
            ]
          },
          "metadata": {},
          "execution_count": 88
        }
      ],
      "source": [
        "dataset['10. A developer gets enough community support for Unreal Engine'] = dataset['10. A developer gets enough community support for Unreal Engine'].map({'Strongly Disagree': 1, 'Disagree': 2, \n",
        "                                                                   'Neutral':3, 'Agree':4, \n",
        "                                                                   'Strongly Agree':5})\n",
        "dataset['10. A developer gets enough community support for Unreal Engine']"
      ]
    },
    {
      "cell_type": "code",
      "execution_count": 89,
      "metadata": {
        "colab": {
          "base_uri": "https://localhost:8080/"
        },
        "id": "zWYvy6CAP4SY",
        "outputId": "20cedb66-82c9-46cb-a1ee-3d5dc02d91a9"
      },
      "outputs": [
        {
          "output_type": "execute_result",
          "data": {
            "text/plain": [
              "Agree             19\n",
              "Strongly Agree     8\n",
              "Neutral            7\n",
              "Disagree           1\n",
              "Name: 11. The Ray Tracing feature is great in Unreal Engine, dtype: int64"
            ]
          },
          "metadata": {},
          "execution_count": 89
        }
      ],
      "source": [
        "dataset['11. The Ray Tracing feature is great in Unreal Engine'].value_counts()"
      ]
    },
    {
      "cell_type": "code",
      "execution_count": 90,
      "metadata": {
        "colab": {
          "base_uri": "https://localhost:8080/"
        },
        "id": "68oCy_MhP4SY",
        "outputId": "a3f48b04-d1da-4db8-a9fb-8ee6dc934abe"
      },
      "outputs": [
        {
          "output_type": "execute_result",
          "data": {
            "text/plain": [
              "0     4\n",
              "1     3\n",
              "2     4\n",
              "3     4\n",
              "4     3\n",
              "5     4\n",
              "6     3\n",
              "7     3\n",
              "8     4\n",
              "9     3\n",
              "10    4\n",
              "11    4\n",
              "12    4\n",
              "13    4\n",
              "14    3\n",
              "15    5\n",
              "16    4\n",
              "17    4\n",
              "18    4\n",
              "19    5\n",
              "20    4\n",
              "21    4\n",
              "22    4\n",
              "23    5\n",
              "24    2\n",
              "25    4\n",
              "26    5\n",
              "27    3\n",
              "28    5\n",
              "29    4\n",
              "30    5\n",
              "31    4\n",
              "32    4\n",
              "33    5\n",
              "34    5\n",
              "Name: 11. The Ray Tracing feature is great in Unreal Engine, dtype: int64"
            ]
          },
          "metadata": {},
          "execution_count": 90
        }
      ],
      "source": [
        "dataset['11. The Ray Tracing feature is great in Unreal Engine'] = dataset['11. The Ray Tracing feature is great in Unreal Engine'].map({'Strongly Disagree': 1, 'Disagree': 2, \n",
        "                                                                   'Neutral':3, 'Agree':4, \n",
        "                                                                   'Strongly Agree':5})\n",
        "dataset['11. The Ray Tracing feature is great in Unreal Engine']"
      ]
    },
    {
      "cell_type": "code",
      "execution_count": 91,
      "metadata": {
        "colab": {
          "base_uri": "https://localhost:8080/"
        },
        "id": "5UlPPtWGP4sy",
        "outputId": "c0a6f47a-7345-440a-b65a-c372d95e7bc7"
      },
      "outputs": [
        {
          "output_type": "execute_result",
          "data": {
            "text/plain": [
              "Neutral              12\n",
              "Strongly Agree       12\n",
              "Agree                 7\n",
              "Disagree              2\n",
              "Strongly Disagree     2\n",
              "Name: 12. The open-sourceness of Unreal Engine is great, dtype: int64"
            ]
          },
          "metadata": {},
          "execution_count": 91
        }
      ],
      "source": [
        "dataset['12. The open-sourceness of Unreal Engine is great'].value_counts()"
      ]
    },
    {
      "cell_type": "code",
      "execution_count": 92,
      "metadata": {
        "colab": {
          "base_uri": "https://localhost:8080/"
        },
        "id": "WiT5V_s7P4sy",
        "outputId": "1e0c4b7b-c5e4-4adb-b90b-e2dcd969b5a7"
      },
      "outputs": [
        {
          "output_type": "execute_result",
          "data": {
            "text/plain": [
              "0     3\n",
              "1     3\n",
              "2     1\n",
              "3     2\n",
              "4     4\n",
              "5     4\n",
              "6     3\n",
              "7     5\n",
              "8     5\n",
              "9     3\n",
              "10    3\n",
              "11    4\n",
              "12    3\n",
              "13    2\n",
              "14    3\n",
              "15    3\n",
              "16    4\n",
              "17    4\n",
              "18    3\n",
              "19    5\n",
              "20    4\n",
              "21    1\n",
              "22    5\n",
              "23    5\n",
              "24    5\n",
              "25    5\n",
              "26    5\n",
              "27    3\n",
              "28    5\n",
              "29    4\n",
              "30    5\n",
              "31    3\n",
              "32    3\n",
              "33    5\n",
              "34    5\n",
              "Name: 12. The open-sourceness of Unreal Engine is great, dtype: int64"
            ]
          },
          "metadata": {},
          "execution_count": 92
        }
      ],
      "source": [
        "dataset['12. The open-sourceness of Unreal Engine is great'] = dataset['12. The open-sourceness of Unreal Engine is great'].map({'Strongly Disagree': 1, 'Disagree': 2, \n",
        "                                                                   'Neutral':3, 'Agree':4, \n",
        "                                                                   'Strongly Agree':5})\n",
        "dataset['12. The open-sourceness of Unreal Engine is great']"
      ]
    },
    {
      "cell_type": "code",
      "execution_count": 93,
      "metadata": {
        "colab": {
          "base_uri": "https://localhost:8080/"
        },
        "id": "ATiMuOEtP5K-",
        "outputId": "4f6f4466-9a7a-40d7-921f-2f155f778bed"
      },
      "outputs": [
        {
          "output_type": "execute_result",
          "data": {
            "text/plain": [
              "Agree             15\n",
              "Strongly Agree    10\n",
              "Neutral            9\n",
              "Disagree           1\n",
              "Name: 13. Unreal Engine is economically good as a game engine , dtype: int64"
            ]
          },
          "metadata": {},
          "execution_count": 93
        }
      ],
      "source": [
        "dataset['13. Unreal Engine is economically good as a game engine '].value_counts()"
      ]
    },
    {
      "cell_type": "code",
      "execution_count": 94,
      "metadata": {
        "colab": {
          "base_uri": "https://localhost:8080/"
        },
        "id": "22YHLV51P5K_",
        "outputId": "e25f1c78-f1ee-462b-fb29-f9296c572ed9"
      },
      "outputs": [
        {
          "output_type": "execute_result",
          "data": {
            "text/plain": [
              "0     4\n",
              "1     4\n",
              "2     5\n",
              "3     4\n",
              "4     4\n",
              "5     5\n",
              "6     3\n",
              "7     4\n",
              "8     3\n",
              "9     4\n",
              "10    4\n",
              "11    4\n",
              "12    3\n",
              "13    3\n",
              "14    3\n",
              "15    5\n",
              "16    4\n",
              "17    2\n",
              "18    5\n",
              "19    5\n",
              "20    4\n",
              "21    4\n",
              "22    3\n",
              "23    4\n",
              "24    4\n",
              "25    4\n",
              "26    5\n",
              "27    3\n",
              "28    4\n",
              "29    3\n",
              "30    5\n",
              "31    5\n",
              "32    3\n",
              "33    5\n",
              "34    5\n",
              "Name: 13. Unreal Engine is economically good as a game engine , dtype: int64"
            ]
          },
          "metadata": {},
          "execution_count": 94
        }
      ],
      "source": [
        "dataset['13. Unreal Engine is economically good as a game engine '] = dataset['13. Unreal Engine is economically good as a game engine '].map({'Strongly Disagree': 1, 'Disagree': 2, \n",
        "                                                                   'Neutral':3, 'Agree':4, \n",
        "                                                                   'Strongly Agree':5})\n",
        "dataset['13. Unreal Engine is economically good as a game engine ']"
      ]
    },
    {
      "cell_type": "code",
      "execution_count": 95,
      "metadata": {
        "colab": {
          "base_uri": "https://localhost:8080/"
        },
        "id": "EmuRuMHLP5hM",
        "outputId": "895ea675-df40-48fe-9689-d4f5feac19c7"
      },
      "outputs": [
        {
          "output_type": "execute_result",
          "data": {
            "text/plain": [
              "Agree             17\n",
              "Strongly Agree     9\n",
              "Neutral            6\n",
              "Disagree           3\n",
              "Name: 14. The UI of Unreal Engine is user friendly, dtype: int64"
            ]
          },
          "metadata": {},
          "execution_count": 95
        }
      ],
      "source": [
        "dataset['14. The UI of Unreal Engine is user friendly'].value_counts()"
      ]
    },
    {
      "cell_type": "code",
      "execution_count": 96,
      "metadata": {
        "colab": {
          "base_uri": "https://localhost:8080/"
        },
        "id": "M8tmHzvqP5hM",
        "outputId": "c4307b60-c2c1-4e31-8697-6eb970a8b015"
      },
      "outputs": [
        {
          "output_type": "execute_result",
          "data": {
            "text/plain": [
              "0     3\n",
              "1     2\n",
              "2     3\n",
              "3     2\n",
              "4     3\n",
              "5     4\n",
              "6     4\n",
              "7     5\n",
              "8     2\n",
              "9     4\n",
              "10    4\n",
              "11    4\n",
              "12    4\n",
              "13    3\n",
              "14    3\n",
              "15    4\n",
              "16    4\n",
              "17    4\n",
              "18    4\n",
              "19    5\n",
              "20    5\n",
              "21    4\n",
              "22    5\n",
              "23    4\n",
              "24    4\n",
              "25    4\n",
              "26    4\n",
              "27    3\n",
              "28    4\n",
              "29    4\n",
              "30    5\n",
              "31    5\n",
              "32    5\n",
              "33    5\n",
              "34    5\n",
              "Name: 14. The UI of Unreal Engine is user friendly, dtype: int64"
            ]
          },
          "metadata": {},
          "execution_count": 96
        }
      ],
      "source": [
        "dataset['14. The UI of Unreal Engine is user friendly'] = dataset['14. The UI of Unreal Engine is user friendly'].map({'Strongly Disagree': 1, 'Disagree': 2, \n",
        "                                                                   'Neutral':3, 'Agree':4, \n",
        "                                                                   'Strongly Agree':5})\n",
        "dataset['14. The UI of Unreal Engine is user friendly']"
      ]
    },
    {
      "cell_type": "code",
      "execution_count": 97,
      "metadata": {
        "colab": {
          "base_uri": "https://localhost:8080/"
        },
        "id": "k7S4ZnJRP59P",
        "outputId": "b9afe3ea-3cb7-4954-df36-25e24417c4f8"
      },
      "outputs": [
        {
          "output_type": "execute_result",
          "data": {
            "text/plain": [
              "Agree             17\n",
              "Strongly Agree    12\n",
              "Neutral            4\n",
              "Disagree           1\n",
              "Name: 15. Unreal Engine is more versatile than other game engines, dtype: int64"
            ]
          },
          "metadata": {},
          "execution_count": 97
        }
      ],
      "source": [
        "dataset['15. Unreal Engine is more versatile than other game engines'].value_counts()"
      ]
    },
    {
      "cell_type": "code",
      "execution_count": null,
      "metadata": {
        "id": "VbjoUie8P59Q"
      },
      "outputs": [],
      "source": [
        "dataset['15. Unreal Engine is more versatile than other game engines'] = dataset['15. Unreal Engine is more versatile than other game engines'].map({'Strongly Disagree': 1, 'Disagree': 2, \n",
        "                                                                   'Neutral':3, 'Agree':4, \n",
        "                                                                   'Strongly Agree':5})\n",
        "dataset['15. Unreal Engine is more versatile than other game engines']"
      ]
    },
    {
      "cell_type": "code",
      "execution_count": 127,
      "metadata": {
        "colab": {
          "base_uri": "https://localhost:8080/"
        },
        "outputId": "2599fe5e-0918-45c3-b9c4-fa16311fe7c3",
        "id": "3PQmt9dqX8BQ"
      },
      "outputs": [
        {
          "output_type": "stream",
          "name": "stdout",
          "text": [
            "3.55\n",
            "4.0\n",
            "1.5035046776746235\n"
          ]
        }
      ],
      "source": [
        "col = dataset['1. Unreal Engine works smoothly on your machine ']\n",
        "\n",
        "mean = col.mean()\n",
        "median = col.median()\n",
        "sd = col.std()\n",
        "\n",
        "print(mean)\n",
        "print(median)\n",
        "print(sd)"
      ]
    },
    {
      "cell_type": "code",
      "execution_count": 128,
      "metadata": {
        "colab": {
          "base_uri": "https://localhost:8080/"
        },
        "outputId": "6c69ba8d-7a88-455d-f8ef-3b3bbca0ef3a",
        "id": "r5vMv-NmZtsp"
      },
      "outputs": [
        {
          "output_type": "stream",
          "name": "stdout",
          "text": [
            "3.85\n",
            "4.0\n",
            "1.1821033884786185\n"
          ]
        }
      ],
      "source": [
        "col = dataset['2. Game developed using unreal engine runs smoothly on different platforms']\n",
        "\n",
        "mean = col.mean()\n",
        "median = col.median()\n",
        "sd = col.std()\n",
        "\n",
        "print(mean)\n",
        "print(median)\n",
        "print(sd)"
      ]
    },
    {
      "cell_type": "code",
      "execution_count": 129,
      "metadata": {
        "colab": {
          "base_uri": "https://localhost:8080/"
        },
        "outputId": "aff95fce-d0a0-4ffa-f40c-304607b87fdd",
        "id": "MGjWEoanZt98"
      },
      "outputs": [
        {
          "output_type": "stream",
          "name": "stdout",
          "text": [
            "3.55\n",
            "4.0\n",
            "1.0990426455975697\n"
          ]
        }
      ],
      "source": [
        "col = dataset['3. One can easily learn Unreal Engine as a beginner']\n",
        "\n",
        "mean = col.mean()\n",
        "median = col.median()\n",
        "sd = col.std()\n",
        "\n",
        "print(mean)\n",
        "print(median)\n",
        "print(sd)"
      ]
    },
    {
      "cell_type": "code",
      "execution_count": 130,
      "metadata": {
        "colab": {
          "base_uri": "https://localhost:8080/"
        },
        "outputId": "3cc00a25-ae0b-46a7-8e73-f60edfd654ee",
        "id": "K2pSZDeEZuKZ"
      },
      "outputs": [
        {
          "output_type": "stream",
          "name": "stdout",
          "text": [
            "3.9\n",
            "4.0\n",
            "1.020835571068081\n"
          ]
        }
      ],
      "source": [
        "col = dataset['4. You are satisfied using Unreal Engine as a game engine']\n",
        "\n",
        "mean = col.mean()\n",
        "median = col.median()\n",
        "sd = col.std()\n",
        "\n",
        "print(mean)\n",
        "print(median)\n",
        "print(sd)"
      ]
    },
    {
      "cell_type": "code",
      "execution_count": 117,
      "metadata": {
        "colab": {
          "base_uri": "https://localhost:8080/"
        },
        "outputId": "c0a0965e-d8d7-4962-fb63-eae8810993db",
        "id": "SvfhCrLHZuXS"
      },
      "outputs": [
        {
          "output_type": "stream",
          "name": "stdout",
          "text": [
            "3.1714285714285713\n",
            "3.0\n",
            "1.2715371495513121\n"
          ]
        }
      ],
      "source": [
        "col = dataset['5. The lighting quality of Unreal Engine is not satisfactory to you']\n",
        "\n",
        "mean = col.mean()\n",
        "median = col.median()\n",
        "sd = col.std()\n",
        "\n",
        "print(mean)\n",
        "print(median)\n",
        "print(sd)"
      ]
    },
    {
      "cell_type": "code",
      "execution_count": 118,
      "metadata": {
        "colab": {
          "base_uri": "https://localhost:8080/"
        },
        "outputId": "a6366eb3-a531-403e-f7c6-a897f1802e3c",
        "id": "9o-IZNXkZudv"
      },
      "outputs": [
        {
          "output_type": "stream",
          "name": "stdout",
          "text": [
            "2.742857142857143\n",
            "3.0\n",
            "1.146423008442222\n"
          ]
        }
      ],
      "source": [
        "col = dataset['6. 2D work flow is not up to the level']\n",
        "\n",
        "mean = col.mean()\n",
        "median = col.median()\n",
        "sd = col.std()\n",
        "\n",
        "print(mean)\n",
        "print(median)\n",
        "print(sd)"
      ]
    },
    {
      "cell_type": "code",
      "execution_count": 112,
      "metadata": {
        "colab": {
          "base_uri": "https://localhost:8080/"
        },
        "outputId": "118b4a2f-5289-4ecc-de9f-34ba613ca180",
        "id": "z1_dlh1BZuj7"
      },
      "outputs": [
        {
          "output_type": "stream",
          "name": "stdout",
          "text": [
            "2.5142857142857142\n",
            "2.0\n",
            "1.3366205975701333\n"
          ]
        }
      ],
      "source": [
        "col = dataset['7. 3D work flow is not up to the level']\n",
        "\n",
        "mean = col.mean()\n",
        "median = col.median()\n",
        "sd = col.std()\n",
        "\n",
        "print(mean)\n",
        "print(median)\n",
        "print(sd)"
      ]
    },
    {
      "cell_type": "code",
      "execution_count": 111,
      "metadata": {
        "colab": {
          "base_uri": "https://localhost:8080/"
        },
        "outputId": "66aa145e-85eb-40f9-8dcd-d3e4d8bd85ab",
        "id": "Gsbsk6JwZuqA"
      },
      "outputs": [
        {
          "output_type": "stream",
          "name": "stdout",
          "text": [
            "3.8529411764705883\n",
            "4.0\n",
            "0.9254762227411247\n"
          ]
        }
      ],
      "source": [
        "col = dataset['8. Unreal Engine is well documented']\n",
        "\n",
        "mean = col.mean()\n",
        "median = col.median()\n",
        "sd = col.std()\n",
        "\n",
        "print(mean)\n",
        "print(median)\n",
        "print(sd)"
      ]
    },
    {
      "cell_type": "code",
      "execution_count": 109,
      "metadata": {
        "colab": {
          "base_uri": "https://localhost:8080/"
        },
        "outputId": "2492f7c3-4cd1-47aa-f9cf-0572bb042a17",
        "id": "5ZPsrezyZuwL"
      },
      "outputs": [
        {
          "output_type": "stream",
          "name": "stdout",
          "text": [
            "3.7714285714285714\n",
            "4.0\n",
            "0.87735277919413\n"
          ]
        }
      ],
      "source": [
        "col = dataset['9. The Physics Simulation in Unreal Engine is realistic ']\n",
        "\n",
        "mean = col.mean()\n",
        "median = col.median()\n",
        "sd = col.std()\n",
        "\n",
        "print(mean)\n",
        "print(median)\n",
        "print(sd)"
      ]
    },
    {
      "cell_type": "code",
      "execution_count": 110,
      "metadata": {
        "colab": {
          "base_uri": "https://localhost:8080/"
        },
        "outputId": "78867dd3-88e1-4667-831f-1a61a6982a3c",
        "id": "gz84pO-5Zu5w"
      },
      "outputs": [
        {
          "output_type": "stream",
          "name": "stdout",
          "text": [
            "3.8857142857142857\n",
            "4.0\n",
            "1.0784364654832632\n"
          ]
        }
      ],
      "source": [
        "col = dataset['10. A developer gets enough community support for Unreal Engine']\n",
        "\n",
        "mean = col.mean()\n",
        "median = col.median()\n",
        "sd = col.std()\n",
        "\n",
        "print(mean)\n",
        "print(median)\n",
        "print(sd)"
      ]
    },
    {
      "cell_type": "code",
      "execution_count": null,
      "metadata": {
        "colab": {
          "base_uri": "https://localhost:8080/"
        },
        "outputId": "e3b34e79-ca5e-4c98-e9a3-b7c2d26b5a5a",
        "id": "9jkW0TE4ZvBF"
      },
      "outputs": [
        {
          "output_type": "stream",
          "name": "stdout",
          "text": [
            "3.4571428571428573\n",
            "4.0\n",
            "1.3578282214593997\n"
          ]
        }
      ],
      "source": [
        "col = dataset['11. The Ray Tracing feature is great in Unreal Engine']\n",
        "\n",
        "mean = col.mean()\n",
        "median = col.median()\n",
        "sd = col.std()\n",
        "\n",
        "print(mean)\n",
        "print(median)\n",
        "print(sd)"
      ]
    },
    {
      "cell_type": "code",
      "execution_count": null,
      "metadata": {
        "colab": {
          "base_uri": "https://localhost:8080/"
        },
        "outputId": "e3b34e79-ca5e-4c98-e9a3-b7c2d26b5a5a",
        "id": "Oy0HqwZeZvI3"
      },
      "outputs": [
        {
          "output_type": "stream",
          "name": "stdout",
          "text": [
            "3.4571428571428573\n",
            "4.0\n",
            "1.3578282214593997\n"
          ]
        }
      ],
      "source": [
        "col = dataset['12. The open-sourceness of Unreal Engine is great']\n",
        "\n",
        "mean = col.mean()\n",
        "median = col.median()\n",
        "sd = col.std()\n",
        "\n",
        "print(mean)\n",
        "print(median)\n",
        "print(sd)"
      ]
    },
    {
      "cell_type": "code",
      "execution_count": 108,
      "metadata": {
        "colab": {
          "base_uri": "https://localhost:8080/"
        },
        "outputId": "37e4de0b-1fa2-43dd-c643-877c98b84a55",
        "id": "Z4jG8KLOZvPh"
      },
      "outputs": [
        {
          "output_type": "stream",
          "name": "stdout",
          "text": [
            "3.9714285714285715\n",
            "4.0\n",
            "0.8219673059804995\n"
          ]
        }
      ],
      "source": [
        "col = dataset['13. Unreal Engine is economically good as a game engine ']\n",
        "\n",
        "mean = col.mean()\n",
        "median = col.median()\n",
        "sd = col.std()\n",
        "\n",
        "print(mean)\n",
        "print(median)\n",
        "print(sd)"
      ]
    },
    {
      "cell_type": "code",
      "execution_count": 107,
      "metadata": {
        "colab": {
          "base_uri": "https://localhost:8080/"
        },
        "outputId": "aea4b26c-eb9f-49a0-89bb-1ef4a6020c3f",
        "id": "vyJ1SlTkZvWH"
      },
      "outputs": [
        {
          "output_type": "stream",
          "name": "stdout",
          "text": [
            "3.914285714285714\n",
            "4.0\n",
            "0.8868791472623198\n"
          ]
        }
      ],
      "source": [
        "col = dataset['14. The UI of Unreal Engine is user friendly']\n",
        "\n",
        "mean = col.mean()\n",
        "median = col.median()\n",
        "sd = col.std()\n",
        "\n",
        "print(mean)\n",
        "print(median)\n",
        "print(sd)"
      ]
    },
    {
      "cell_type": "code",
      "execution_count": 106,
      "metadata": {
        "colab": {
          "base_uri": "https://localhost:8080/"
        },
        "outputId": "d13454ca-8c6b-4734-85c8-179f67ea3daf",
        "id": "qeY75K18Zvcq"
      },
      "outputs": [
        {
          "output_type": "stream",
          "name": "stdout",
          "text": [
            "4.176470588235294\n",
            "4.0\n",
            "0.7576114073608445\n"
          ]
        }
      ],
      "source": [
        "col = dataset['15. Unreal Engine is more versatile than other game engines']\n",
        "\n",
        "mean = col.mean()\n",
        "median = col.median()\n",
        "sd = col.std()\n",
        "\n",
        "print(mean)\n",
        "print(median)\n",
        "print(sd)"
      ]
    },
    {
      "cell_type": "code",
      "execution_count": 101,
      "metadata": {
        "id": "J1jr50eTF67X"
      },
      "outputs": [],
      "source": [
        "dataset.to_csv(\"/content/sample_data/EncodedData.csv\")"
      ]
    }
  ],
  "metadata": {
    "kernelspec": {
      "display_name": "Python 3",
      "language": "python",
      "name": "python3"
    },
    "language_info": {
      "codemirror_mode": {
        "name": "ipython",
        "version": 3
      },
      "file_extension": ".py",
      "mimetype": "text/x-python",
      "name": "python",
      "nbconvert_exporter": "python",
      "pygments_lexer": "ipython3",
      "version": "3.8.5"
    },
    "colab": {
      "name": "Encoding.ipynb",
      "provenance": [],
      "toc_visible": true
    }
  },
  "nbformat": 4,
  "nbformat_minor": 0
}